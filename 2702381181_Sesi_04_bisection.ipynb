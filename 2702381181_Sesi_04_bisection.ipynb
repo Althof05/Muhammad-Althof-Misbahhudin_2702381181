{
  "nbformat": 4,
  "nbformat_minor": 0,
  "metadata": {
    "colab": {
      "provenance": [],
      "authorship_tag": "ABX9TyMo9F8ou9v2Y+s+vjqc62g3",
      "include_colab_link": true
    },
    "kernelspec": {
      "name": "python3",
      "display_name": "Python 3"
    },
    "language_info": {
      "name": "python"
    }
  },
  "cells": [
    {
      "cell_type": "markdown",
      "metadata": {
        "id": "view-in-github",
        "colab_type": "text"
      },
      "source": [
        "<a href=\"https://colab.research.google.com/github/Althof05/Muhammad-Althof-Misbahhudin_2702381181/blob/main/2702381181_Sesi_04_bisection.ipynb\" target=\"_parent\"><img src=\"https://colab.research.google.com/assets/colab-badge.svg\" alt=\"Open In Colab\"/></a>"
      ]
    },
    {
      "cell_type": "code",
      "execution_count": null,
      "metadata": {
        "id": "u6cxAZwOxDGp"
      },
      "outputs": [],
      "source": [
        "import numpy as np\n",
        "\n",
        "def my_bisection(f, a, b, tol):\n",
        "  #approximates a root, R, of f bounded\n",
        "  #by a and b to within tolerance\n",
        "  #| f(m) | < tol with m the midpoint\n",
        "  #between a and b Recursive implementation\n",
        "\n",
        "  #check if a and b bound a root\n",
        "  if np.sign(f(a)) == np.sign(f(b)):\n",
        "      raise Exception(\n",
        "           \"The scalars a and b do not bound a root\")\n",
        "\n",
        "  # get midpoint\n",
        "  m = ( a +b )/2\n",
        "\n",
        "  if np.abs (f(m)) < tol :\n",
        "      # stopping condition, report mas root\n",
        "      return m\n",
        "  elif np.sign(f(a)) == np.sign(f(m)) :\n",
        "      # case where mis an improvment on a.\n",
        "      # Mak recursive call with a = m\n",
        "      return my_bisection(f, m, b, tol)\n",
        "  elif np.sign(f(b)) == np.sign(f(m)):\n",
        "      # case where mis an improvement on b.\n",
        "      # Make recursive call with b = m\n",
        "      return my_bisection(f, a, m, tol)"
      ]
    },
    {
      "cell_type": "code",
      "source": [
        "f = lambda x: x**2 - 2\n",
        "\n",
        "r1 = my_bisection(f, 0, 2, 0.1)\n",
        "print(\"r1 =\", r1)\n",
        "r01 = my_bisection(f, 0, 2, 0.01)\n",
        "print(\"r01 =\", r01)\n",
        "\n",
        "print(\"f(r1) =\", f(r1))\n",
        "print(\"f(r01) =\", f(r01))"
      ],
      "metadata": {
        "colab": {
          "base_uri": "https://localhost:8080/"
        },
        "id": "c0WP3Eb90X19",
        "outputId": "5ca2a65f-f8da-4e5c-9cd7-916e16721b98"
      },
      "execution_count": null,
      "outputs": [
        {
          "output_type": "stream",
          "name": "stdout",
          "text": [
            "r1 = 1.4375\n",
            "r01 = 1.4140625\n",
            "f(r1) = 0.06640625\n",
            "f(r01) = -0.00042724609375\n"
          ]
        }
      ]
    }
  ]
}